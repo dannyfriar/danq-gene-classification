{
 "cells": [
  {
   "cell_type": "code",
   "execution_count": 20,
   "metadata": {
    "collapsed": true
   },
   "outputs": [],
   "source": [
    "import sys\n",
    "import time\n",
    "import pickle\n",
    "import collections\n",
    "import numpy as np\n",
    "import pandas as pd\n",
    "import tensorflow as tf\n",
    "import matplotlib.pyplot as plt\n",
    "\n",
    "from sklearn.model_selection import train_test_split\n",
    "from sklearn.feature_extraction.text import CountVectorizer\n",
    "from sklearn.preprocessing import OneHotEncoder"
   ]
  },
  {
   "cell_type": "code",
   "execution_count": 2,
   "metadata": {
    "collapsed": false
   },
   "outputs": [
    {
     "name": "stdout",
     "output_type": "stream",
     "text": [
      "# non gene examples: 19800\n",
      "# gene examples: 19425\n",
      "Bases in non gene: {'G', 'A', 'C', 'T'}\n",
      "Bases in gene: {'G', 'A', 'C', 'T'}\n"
     ]
    }
   ],
   "source": [
    "#----- Load data\n",
    "with open('data/non_gene_seqs.pkl', 'rb') as f:\n",
    "    non_gene = pickle.load(f)\n",
    "with open('data/gene_seqs.pkl', 'rb') as f:\n",
    "    gene = pickle.load(f)\n",
    "\n",
    "# Check class balance\n",
    "print(\"# non gene examples: {}\".format(len(non_gene)))\n",
    "print(\"# gene examples: {}\".format(len(gene)))\n",
    "    \n",
    "# Check for weird bases (i.e. check only A, C, T, G)\n",
    "print(\"Bases in non gene: {}\".format(set(\"\".join(non_gene))))\n",
    "print(\"Bases in gene: {}\".format(set(\"\".join(gene))))"
   ]
  },
  {
   "cell_type": "code",
   "execution_count": 3,
   "metadata": {
    "collapsed": false
   },
   "outputs": [
    {
     "name": "stdout",
     "output_type": "stream",
     "text": [
      "Train:35302, test:7845, validation:3923\n",
      "Counter({'G': 5697966, 'C': 5539227, 'T': 4114385, 'A': 4073422})\n",
      "Counter({'A': 5772178, 'T': 5766107, 'C': 4135339, 'G': 4126376})\n"
     ]
    }
   ],
   "source": [
    "#------- Form test, train and validation sets (class 0 is non-gene and class 1 is gene)\n",
    "df_non_gene = pd.DataFrame.from_dict({'sequence':non_gene, 'class': 0})\n",
    "df_gene = pd.DataFrame.from_dict({'sequence':gene, 'class': 1})\n",
    "df = pd.concat([df_non_gene, df_gene])\n",
    "df = df.sample(frac=1)  # randomly shuffle dataframe rows\n",
    "\n",
    "train, test = train_test_split(df, test_size=0.2)\n",
    "train, val = train_test_split(df, test_size=0.1)\n",
    "print(\"Train:{}, test:{}, validation:{}\".format(len(train), len(test), len(val)))\n",
    "\n",
    "# Frequency of bases in positive and negative examples\n",
    "gene_string = \"\".join(df_gene['sequence'].tolist())\n",
    "non_gene_string = \"\".join(df_non_gene['sequence'].tolist())\n",
    "print(collections.Counter(gene_string))\n",
    "print(collections.Counter(non_gene_string))"
   ]
  },
  {
   "cell_type": "code",
   "execution_count": 4,
   "metadata": {
    "collapsed": false
   },
   "outputs": [
    {
     "name": "stdout",
     "output_type": "stream",
     "text": [
      "{'A': 0, 'C': 1, 'G': 2, 'T': 3}\n"
     ]
    }
   ],
   "source": [
    "#------ Convert to test and train matrices\n",
    "word_dict = dict(zip(['A', 'C', 'G', 'T'], list(range(4))))\n",
    "print(word_dict)\n",
    "\n",
    "def gene_seq_to_vec(seq, word_dict):\n",
    "    for key in word_dict:\n",
    "        seq = seq.replace(key, str(word_dict[key]))\n",
    "    return [int(s) for s in list(seq)]\n",
    "\n",
    "def gene_seq_to_mat(seq, word_dict):\n",
    "    for key in word_dict:\n",
    "        seq = seq.replace(key, str(word_dict[key]))\n",
    "    x = np.array([int(s) for s in list(seq)]).reshape(-1)\n",
    "    x_mat = np.zeros([1000, 4])\n",
    "    x_mat[np.arange(x.shape[0]), x.T-1] = 1\n",
    "    return x_mat\n",
    "\n",
    "X_train = np.stack([gene_seq_to_mat(seq, word_dict) for seq in train['sequence'].tolist()])\n",
    "X_test = np.stack([gene_seq_to_mat(seq, word_dict) for seq in test['sequence'].tolist()])\n",
    "X_val = np.stack([gene_seq_to_mat(seq, word_dict) for seq in val['sequence'].tolist()])\n",
    "# X_train = np.array([gene_seq_to_vec(x, word_dict) for x in train['sequence'].tolist()])\n",
    "# X_test = np.array([gene_seq_to_vec(x, word_dict) for x in test['sequence'].tolist()])\n",
    "# X_val = np.array([gene_seq_to_vec(x, word_dict) for x in val['sequence'].tolist()])\n",
    "\n",
    "y_train = np.array(train['class'].tolist()).reshape(-1, 1)\n",
    "y_test = np.array(test['class'].tolist()).reshape(-1, 1)\n",
    "y_val = np.array(val['class'].tolist()).reshape(-1, 1)"
   ]
  },
  {
   "cell_type": "code",
   "execution_count": 11,
   "metadata": {
    "collapsed": false
   },
   "outputs": [],
   "source": [
    "# #------ Initialize TF graph and set training paramaters - RNN-based approach\n",
    "# tf.reset_default_graph()\n",
    "# cell_units = 128\n",
    "# n_hidden = 64\n",
    "# learning_rate = 0.001\n",
    "# b_size = 100\n",
    "# n_epochs = 1\n",
    "\n",
    "# x = tf.placeholder(tf.float32, [None, 1000, 1])\n",
    "# y = tf.placeholder(tf.float32, [None, 1])\n",
    "# batch_size = tf.placeholder(tf.int32)\n",
    "\n",
    "# def gru_rnn(x, y, cell_units, n_hidden, learning_rate):\n",
    "#     \"\"\"Build TF computation graph for RNN\"\"\"\n",
    "#     W1 = tf.get_variable(\"W1\", [cell_units, n_hidden],\n",
    "#                          initializer=tf.random_normal_initializer(mean=0.0, stddev=0.1))\n",
    "#     W2 = tf.get_variable(\"W2\", [n_hidden, 1],\n",
    "#                          initializer=tf.random_normal_initializer(mean=0.0, stddev=0.1))\n",
    "#     b1 = tf.get_variable(\"b1\", [n_hidden], \n",
    "#                          initializer=tf.random_normal_initializer(mean=0.0, stddev=0.1))\n",
    "#     b2 = tf.get_variable(\"b2\", [1], \n",
    "#                          initializer=tf.random_normal_initializer(mean=0.0, stddev=0.1))\n",
    "#     # LSTM layer\n",
    "#     lstm = tf.contrib.rnn.BasicLSTMCell(num_units=cell_units)\n",
    "#     outputs, state = tf.nn.dynamic_rnn(cell=lstm, dtype=tf.float32, inputs=x)\n",
    "\n",
    "#     # Linear layer + ReLU + linear layer\n",
    "#     final_output = outputs[:, -1, :]\n",
    "#     h1 = tf.nn.relu(tf.matmul(final_output, W1) + b1)\n",
    "#     h2 = tf.matmul(h1, W2) + b2\n",
    "#     output = tf.nn.sigmoid(h2)\n",
    "\n",
    "#     # Predict on final output and calculate loss function\n",
    "#     cost = tf.reduce_mean(tf.nn.sigmoid_cross_entropy_with_logits(labels=y, logits=h2))\n",
    "#     acc = tf.reduce_sum(tf.cast(tf.equal(tf.round(output), y), 'float'))\n",
    "\n",
    "#     # Train RNN\n",
    "#     opt = tf.train.AdamOptimizer(learning_rate).minimize(cost)\n",
    "#     return output, cost, opt, acc\n",
    "\n",
    "# output, cost, opt, acc = gru_rnn(x, y, cell_units, n_hidden, learning_rate)\n",
    "# init = tf.global_variables_initializer()\n",
    "# saver = tf.train.Saver()"
   ]
  },
  {
   "cell_type": "code",
   "execution_count": 45,
   "metadata": {
    "collapsed": false
   },
   "outputs": [],
   "source": [
    "#------- Initialize TF graph and set training paramaters - CNN-based approach\n",
    "tf.reset_default_graph()\n",
    "learning_rate = 0.001\n",
    "b_size = 50\n",
    "filter_sizes = [1, 3, 6, 9, 12]\n",
    "num_filters = 5\n",
    "n_epochs = 2\n",
    "\n",
    "x = tf.placeholder(tf.int32, [None, 1000, 4])\n",
    "y = tf.placeholder(tf.float32, [None, 1])\n",
    "keep_prob = tf.placeholder(tf.float32)\n",
    "\n",
    "def cnn_text(x, y, num_filters, filter_sizes, learning_rate):\n",
    "    \"\"\"Build TF computation graph for CNN\"\"\"\n",
    "    x = tf.expand_dims(x, -1)\n",
    "    num_filters_total = num_filters * len(filter_sizes)\n",
    "    \n",
    "    W_out = tf.get_variable(\"W_out\", [num_filters_total, 1], \n",
    "        initializer=tf.random_normal_initializer(mean=0.0, stddev=0.01))\n",
    "    b_out = tf.get_variable(\"b_out\", [1], initializer=tf.constant_initializer(0.01))\n",
    "    \n",
    "    # Convolutional layers\n",
    "    pooled_outputs = []\n",
    "    for i, filter_size in enumerate(filter_sizes):\n",
    "        with tf.name_scope(\"conv-maxpool-%s\" % filter_size):\n",
    "            filter_shape = [filter_size, 4, 1, num_filters]\n",
    "            W = tf.Variable(tf.truncated_normal(filter_shape, stddev=0.01), name=\"W\")\n",
    "            b = tf.Variable(tf.constant(0.01, shape=[num_filters]), name=\"b\")\n",
    "            conv = tf.nn.conv2d(tf.cast(x, tf.float32), W, \n",
    "                                     strides=[1, 1, 1, 1], padding=\"VALID\", name=\"conv\")\n",
    "            h = tf.nn.relu(tf.nn.bias_add(conv, b), name=\"relu\")\n",
    "            pooled = tf.nn.max_pool(h, ksize=[1, 1000-filter_size+1, 1, 1],\n",
    "                strides=[1, 1, 1, 1], padding='VALID', name=\"pool\")\n",
    "            pooled_outputs.append(pooled)\n",
    "            \n",
    "    # Fully connected layers\n",
    "    h_pool = tf.concat(pooled_outputs, 3)\n",
    "    h_pool_flat = tf.reshape(h_pool, [-1, num_filters_total])\n",
    "    h_drop = tf.nn.dropout(h_pool_flat, keep_prob)\n",
    "    output = tf.matmul(h_drop, W_out) + b_out\n",
    "    y_pred = tf.nn.sigmoid(output)\n",
    "    \n",
    "    # Loss and optimizer\n",
    "    loss = tf.reduce_mean(tf.nn.sigmoid_cross_entropy_with_logits(labels=y, logits=output))\n",
    "    acc = tf.reduce_sum(tf.cast(tf.equal(tf.round(y_pred), y), 'float'))\n",
    "    opt = tf.train.AdamOptimizer(learning_rate).minimize(loss)\n",
    "    return y_pred, loss, opt, acc\n",
    "\n",
    "y_pred, loss, opt, acc = cnn_text(x, y, num_filters, filter_sizes, learning_rate)\n",
    "init = tf.global_variables_initializer()\n",
    "saver = tf.train.Saver()"
   ]
  },
  {
   "cell_type": "code",
   "execution_count": 46,
   "metadata": {
    "collapsed": false
   },
   "outputs": [
    {
     "name": "stdout",
     "output_type": "stream",
     "text": [
      "#------- Running for epoch 1 of 2\n",
      "Percent complete: [------------------->] 100%\n",
      "Trained for 1 epochs: train loss = 0.4064803719520569, train acc = 0.829358110022095\n",
      "Val loss = 0.40425896644592285, val acc = 0.8223298496048942\n",
      "#------- Running for epoch 2 of 2\n",
      "Percent complete: [------------------->] 100%\n",
      "Trained for 2 epochs: train loss = 0.38684532046318054, train acc = 0.8365531697920797\n",
      "Val loss = 0.3839230537414551, val acc = 0.8355850114708131\n"
     ]
    }
   ],
   "source": [
    "#-------- Split into batches and train\n",
    "X_train_batch_list = np.array_split(X_train, int(len(train)/b_size))\n",
    "y_train_batch_list = np.array_split(y_train, int(len(train)/b_size))\n",
    "\n",
    "# To print progress and store results throughout training\n",
    "def progress_bar(value, endvalue, bar_length=20):\n",
    "    percent = float(value) / endvalue\n",
    "    arrow = '-' * int(round(percent * bar_length)-1) + '>'\n",
    "    spaces = ' ' * (bar_length - len(arrow))\n",
    "    sys.stdout.write(\"\\rPercent complete: [{0}] {1}%\".format(arrow + spaces, int(round(percent * 100))))\n",
    "    sys.stdout.flush()\n",
    "    \n",
    "train_results_dict = {\n",
    "    'n_examples': [], \n",
    "    'batch_train_loss': [], 'validation_loss': [],\n",
    "    'batch_train_acc': [], 'validation_acc': []\n",
    "}\n",
    "save_results_freq = 50\n",
    "\n",
    "# Run TF session\n",
    "with tf.Session() as sess:\n",
    "    sess.run(init)\n",
    "    \n",
    "    for epoch in range(n_epochs):\n",
    "        print(\"#------- Running for epoch {} of {}\".format(epoch+1, n_epochs))\n",
    "        for i in range(len(X_train_batch_list)):\n",
    "            train_dict = {\n",
    "                x: X_train_batch_list[i], y: y_train_batch_list[i],\n",
    "                keep_prob: 0.7\n",
    "            }\n",
    "            y_p, l, o, a = sess.run([y_pred, loss, opt, acc], feed_dict=train_dict)\n",
    "            progress_bar(i+1, len(X_train_batch_list))\n",
    "            if i % save_results_freq == 0:\n",
    "                l_val, acc_val = sess.run([loss, acc], feed_dict={x: X_val, y: y_val, keep_prob:1})\n",
    "                train_results_dict['n_examples'].append(i * b_size + epoch * len(y_train))\n",
    "                train_results_dict['batch_train_loss'].append(l)\n",
    "                train_results_dict['validation_loss'].append(l_val)\n",
    "                train_results_dict['batch_train_acc'].append(a/b_size)\n",
    "                train_results_dict['validation_acc'].append(acc_val/len(y_val))\n",
    "                \n",
    "        l_train, acc_train = sess.run([loss, acc], feed_dict={x: X_train, y: y_train, keep_prob:1})\n",
    "        saver.save(sess, 'models/cnn_text_model')\n",
    "        print(\"\\nTrained for {} epochs: train loss = {}, train acc = {}\".format(epoch+1, l_train, acc_train/len(y_train)))\n",
    "        print(\"Val loss = {}, val acc = {}\".format(l_val, acc_val/len(y_val)))\n",
    "        \n",
    "    sess.close()"
   ]
  },
  {
   "cell_type": "code",
   "execution_count": 47,
   "metadata": {
    "collapsed": false
   },
   "outputs": [
    {
     "data": {
      "image/png": "[encoded data removed]",
      "text/plain": [
       "<matplotlib.figure.Figure at 0x174ea5828>"
      ]
     },
     "metadata": {},
     "output_type": "display_data"
    },
    {
     "data": {
      "image/png": "[encoded data removed]",
      "text/plain": [
       "<matplotlib.figure.Figure at 0x1775cc4a8>"
      ]
     },
     "metadata": {},
     "output_type": "display_data"
    }
   ],
   "source": [
    "#------ Plot learning curves\n",
    "with plt.style.context('ggplot'):\n",
    "    # Loss plot\n",
    "    plt.plot(train_results_dict['n_examples'], train_results_dict['batch_train_loss'], \n",
    "             'darkcyan', label=\"Training\")\n",
    "    plt.plot(train_results_dict['n_examples'], train_results_dict['validation_loss'],\n",
    "            'firebrick', label=\"Validation\")\n",
    "    plt.ylabel('Number of Training Examples'); plt.xlabel('Cross Entropy Loss')\n",
    "    plt.legend()\n",
    "    plt.show()\n",
    "\n",
    "    # Accuracy plot\n",
    "    plt.plot(train_results_dict['n_examples'], train_results_dict['batch_train_acc'], \n",
    "             'darkcyan', label=\"Training\")\n",
    "    plt.plot(train_results_dict['n_examples'], train_results_dict['validation_acc'], \n",
    "             'firebrick', label=\"Validation\")\n",
    "    plt.ylabel('Number of Training Examples'); plt.xlabel('Accuracy')\n",
    "    plt.legend()\n",
    "    plt.show()"
   ]
  },
  {
   "cell_type": "code",
   "execution_count": 48,
   "metadata": {
    "collapsed": false
   },
   "outputs": [
    {
     "name": "stdout",
     "output_type": "stream",
     "text": [
      "#------ Reloading model...\n",
      "INFO:tensorflow:Restoring parameters from models/cnn_text_model\n"
     ]
    },
    {
     "name": "stderr",
     "output_type": "stream",
     "text": [
      "INFO:tensorflow:Restoring parameters from models/cnn_text_model\n"
     ]
    },
    {
     "name": "stdout",
     "output_type": "stream",
     "text": [
      "#------ Calculating performance on test set...\n",
      "Test loss = 0.3852819502353668, test acc = 0.8368387507966858\n"
     ]
    }
   ],
   "source": [
    "#------ Reload model and get performance on the test set\n",
    "print(\"#------ Reloading model...\")\n",
    "with tf.Session() as sess:\n",
    "    saver = tf.train.import_meta_graph(\"models/cnn_text_model.meta\")\n",
    "    saver.restore(sess, tf.train.latest_checkpoint(\"models\"))\n",
    "    all_vars = tf.get_collection('vars')\n",
    "    l_test, acc_test = sess.run([loss, acc], feed_dict={x: X_test, y: y_test, keep_prob:1})\n",
    "    sess.close()\n",
    "\n",
    "print(\"#------ Calculating performance on test set...\")\n",
    "print(\"Test loss = {}, test acc = {}\".format(l_test, acc_test/len(y_test)))"
   ]
  },
  {
   "cell_type": "code",
   "execution_count": null,
   "metadata": {
    "collapsed": true
   },
   "outputs": [],
   "source": []
  }
 ],
 "metadata": {
  "kernelspec": {
   "display_name": "Python 3",
   "language": "python",
   "name": "python3"
  },
  "language_info": {
   "codemirror_mode": {
    "name": "ipython",
    "version": 3
   },
   "file_extension": ".py",
   "mimetype": "text/x-python",
   "name": "python",
   "nbconvert_exporter": "python",
   "pygments_lexer": "ipython3",
   "version": "3.6.0"
  }
 },
 "nbformat": 4,
 "nbformat_minor": 2
}
